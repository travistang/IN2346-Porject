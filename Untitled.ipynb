{
 "cells": [
  {
   "cell_type": "code",
   "execution_count": 6,
   "metadata": {},
   "outputs": [
    {
     "name": "stderr",
     "output_type": "stream",
     "text": [
      "/usr/local/anaconda3/lib/python3.6/site-packages/ipykernel_launcher.py:22: UserWarning: Update your `Conv2D` call to the Keras 2 API: `Conv2D(32, (8, 8), name=\"conv1\", activation=\"relu\", strides=(4, 4))`\n",
      "/usr/local/anaconda3/lib/python3.6/site-packages/ipykernel_launcher.py:23: UserWarning: Update your `Conv2D` call to the Keras 2 API: `Conv2D(64, (4, 4), name=\"conv2\", activation=\"relu\", strides=(2, 2))`\n",
      "/usr/local/anaconda3/lib/python3.6/site-packages/ipykernel_launcher.py:24: UserWarning: Update your `Conv2D` call to the Keras 2 API: `Conv2D(64, (3, 3), name=\"conv3\", activation=\"relu\", strides=(1, 1))`\n"
     ]
    },
    {
     "name": "stdout",
     "output_type": "stream",
     "text": [
      "x has shape: (None, 4, 3136)\n",
      "__________________________________________________________________________________________________\n",
      "Layer (type)                    Output Shape         Param #     Connected to                     \n",
      "==================================================================================================\n",
      "controller_input (InputLayer)   (None, 3136)         0                                            \n",
      "__________________________________________________________________________________________________\n",
      "read_inp (InputLayer)           (None, 1, 128)       0                                            \n",
      "__________________________________________________________________________________________________\n",
      "dense_4 (Dense)                 (None, 512)          1606144     controller_input[0][0]           \n",
      "__________________________________________________________________________________________________\n",
      "read_inp_flatten (Flatten)      (None, 128)          0           read_inp[0][0]                   \n",
      "__________________________________________________________________________________________________\n",
      "concatenate_3 (Concatenate)     (None, 640)          0           dense_4[0][0]                    \n",
      "                                                                 read_inp_flatten[0][0]           \n",
      "__________________________________________________________________________________________________\n",
      "dense_5 (Dense)                 (None, 6)            3846        concatenate_3[0][0]              \n",
      "==================================================================================================\n",
      "Total params: 1,609,990\n",
      "Trainable params: 1,609,990\n",
      "Non-trainable params: 0\n",
      "__________________________________________________________________________________________________\n",
      "ntm_cell output: (None, 6)\n"
     ]
    }
   ],
   "source": [
    "from keras.models import Model\n",
    "import keras.backend as K\n",
    "from ntm import NTM\n",
    "from keras.layers import *\n",
    "WINDOW_LENGTH = 4\n",
    "batch_size = 32\n",
    "permute_layer = Permute((1,2,3,4))\n",
    "num_read = 1\n",
    "num_write = 1\n",
    "mem_length = 128\n",
    "n_slots = 128\n",
    "INPUT_SHAPE = (84, 84)\n",
    "nb_actions = 6\n",
    "\n",
    "model_input = Input(\n",
    "    (WINDOW_LENGTH,1) + INPUT_SHAPE,\n",
    "    #batch_shape = (batch_size,) + (WINDOW_LENGTH,1) + INPUT_SHAPE\n",
    ")\n",
    "\n",
    "per = permute_layer(model_input)\n",
    "\n",
    "x = TimeDistributed(Conv2D(32,(8,8),name='conv1',activation = 'relu',subsample = (4,4)))(per)\n",
    "x = TimeDistributed(Conv2D(64,(4,4),name='conv2',activation = 'relu',subsample = (2,2)))(x)\n",
    "x = TimeDistributed(Conv2D(64,(3,3),name='conv3',activation = 'relu',subsample = (1,1)))(x)\n",
    "x = TimeDistributed(Flatten(name = \"Flatten1\"))(x) # (batch_size,WINDOW_LENGTH,3176)\n",
    "x_shape = K.int_shape(x)\n",
    "print('x has shape:',x_shape)\n",
    "# controller construction\n",
    "controller_inp = Input((x_shape[-1],), name=\"controller_input\") # (batch_size,3176)\n",
    "read_inp = Input((num_read,mem_length),name=\"read_inp\") # (batch_size,n_read,n_write)\n",
    "read_inp_flatten = Flatten(name=\"read_inp_flatten\")(read_inp) #(batch_size,n_read * n_write)\n",
    "hidden = Dense(512,activation = 'relu')(controller_inp)\n",
    "hidden_extend = Concatenate()([hidden,read_inp_flatten])\n",
    "controller_output = Dense(nb_actions,activation = 'linear')(hidden_extend)\n",
    "controller = Model([controller_inp,read_inp],[controller_output,hidden])\n",
    "controller.summary()\n",
    "# ntm constuction\n",
    "#TODO: reset the state for on_batch_end!!\n",
    "ntm_cell = NTM(\n",
    "        controller,                     # custom controller, should output a vector\n",
    "        n_slots,mem_length,           # Memory config\n",
    "        num_shift = 3,                  # shifting\n",
    "        batch_size = batch_size,\n",
    "        #controller_instr_output_dim = controller_instr_output_dim,\n",
    "        return_sequences = False,\n",
    "        num_read = num_read,num_write = num_write)(x) # (batch_size,512)\n",
    "ntm_cell_output_shape = K.int_shape(ntm_cell)\n",
    "print('ntm_cell output:', ntm_cell_output_shape)\n",
    "ntm_cell_output_shape = ntm_cell_output_shape[1:]\n",
    "\n",
    "#model_output = Dense(nb_actions,activation = 'linear')(ntm_cell)\n",
    "\n",
    "model = Model(model_input,ntm_cell)"
   ]
  },
  {
   "cell_type": "code",
   "execution_count": 9,
   "metadata": {
    "collapsed": true
   },
   "outputs": [],
   "source": [
    "import numpy as np\n",
    "input_shape = (WINDOW_LENGTH,1) + INPUT_SHAPE\n",
    "inp = np.random.rand(*input_shape)"
   ]
  },
  {
   "cell_type": "code",
   "execution_count": 10,
   "metadata": {},
   "outputs": [
    {
     "data": {
      "text/plain": [
       "(4, 1, 84, 84)"
      ]
     },
     "execution_count": 10,
     "metadata": {},
     "output_type": "execute_result"
    }
   ],
   "source": [
    "inp.shape"
   ]
  },
  {
   "cell_type": "code",
   "execution_count": 66,
   "metadata": {},
   "outputs": [
    {
     "data": {
      "image/png": "[encoded data removed]",
      "text/plain": [
       "<matplotlib.figure.Figure at 0x7fc2cec98b00>"
      ]
     },
     "metadata": {},
     "output_type": "display_data"
    }
   ],
   "source": [
    "import json\n",
    "import numpy as np\n",
    "import matplotlib.pyplot as plt\n",
    "%matplotlib inline\n",
    "with open('dqn_BreakoutDeterministic-v4_log.json') as f:\n",
    "    j = f.read()\n",
    "    j = json.loads(j)\n",
    "    win_len = 200\n",
    "    window = np.repeat(1. / win_len,win_len)\n",
    "    attrs = ['episode_reward' ]\n",
    "    for i,attr in enumerate(attrs):\n",
    "        data = j[attr]\n",
    "        data = np.convolve(data,window,'valid')\n",
    "        plt.plot(data,'r g b'.split(' ')[i])\n",
    "    #reward = j['episode_reward']\n",
    "    #reward = np.convolve(reward,window,'valid')\n",
    "#     loss = j['loss']\n",
    "#     plt.plot(loss,'r')\n",
    "    \n",
    "    #plt.plot(reward"
   ]
  },
  {
   "cell_type": "code",
   "execution_count": null,
   "metadata": {
    "collapsed": true
   },
   "outputs": [],
   "source": []
  },
  {
   "cell_type": "code",
   "execution_count": null,
   "metadata": {
    "collapsed": true
   },
   "outputs": [],
   "source": []
  },
  {
   "cell_type": "code",
   "execution_count": null,
   "metadata": {
    "collapsed": true
   },
   "outputs": [],
   "source": []
  }
 ],
 "metadata": {
  "kernelspec": {
   "display_name": "Python 3",
   "language": "python",
   "name": "python3"
  },
  "language_info": {
   "codemirror_mode": {
    "name": "ipython",
    "version": 3
   },
   "file_extension": ".py",
   "mimetype": "text/x-python",
   "name": "python",
   "nbconvert_exporter": "python",
   "pygments_lexer": "ipython3",
   "version": "3.6.3"
  }
 },
 "nbformat": 4,
 "nbformat_minor": 2
}

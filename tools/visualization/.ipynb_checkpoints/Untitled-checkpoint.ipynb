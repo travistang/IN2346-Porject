{
 "cells": [
  {
   "cell_type": "code",
   "execution_count": 2,
   "metadata": {
    "collapsed": false
   },
   "outputs": [
    {
     "name": "stderr",
     "output_type": "stream",
     "text": [
      "/usr/local/lib/python3.4/dist-packages/IPython/kernel/__main__.py:6: UserWarning: Update your `Conv2D` call to the Keras 2 API: `Conv2D(10, (3, 3), input_shape=(240, 240,...)`\n",
      "/usr/local/lib/python3.4/dist-packages/IPython/kernel/__main__.py:7: UserWarning: Update your `Conv2D` call to the Keras 2 API: `Conv2D(7, (5, 5))`\n"
     ]
    },
    {
     "name": "stdout",
     "output_type": "stream",
     "text": [
      "_________________________________________________________________\n",
      "Layer (type)                 Output Shape              Param #   \n",
      "=================================================================\n",
      "conv2d_1 (Conv2D)            (None, 238, 238, 10)      280       \n",
      "_________________________________________________________________\n",
      "conv2d_2 (Conv2D)            (None, 234, 234, 7)       1757      \n",
      "_________________________________________________________________\n",
      "batch_normalization_1 (Batch (None, 234, 234, 7)       28        \n",
      "_________________________________________________________________\n",
      "flatten_1 (Flatten)          (None, 383292)            0         \n",
      "_________________________________________________________________\n",
      "dense_1 (Dense)              (None, 100)               38329300  \n",
      "_________________________________________________________________\n",
      "dropout_1 (Dropout)          (None, 100)               0         \n",
      "=================================================================\n",
      "Total params: 38,331,365\n",
      "Trainable params: 38,331,351\n",
      "Non-trainable params: 14\n",
      "_________________________________________________________________\n"
     ]
    }
   ],
   "source": [
    "from keras.layers import *\n",
    "from keras.models import Sequential\n",
    "\n",
    "\n",
    "model = Sequential()\n",
    "model.add(Conv2D(10,3,3,input_shape = (240,240,3)))\n",
    "model.add(Conv2D(7,5,5))\n",
    "model.add(BatchNormalization())\n",
    "model.add(Flatten())\n",
    "model.add(Dense(100))\n",
    "model.add(Dropout(0.1))\n",
    "\n",
    "model.summary()\n"
   ]
  },
  {
   "cell_type": "code",
   "execution_count": 3,
   "metadata": {
    "collapsed": false
   },
   "outputs": [
    {
     "data": {
      "text/plain": [
       "[<keras.layers.convolutional.Conv2D at 0x7ff2002e4240>,\n",
       " <keras.layers.convolutional.Conv2D at 0x7ff22d739a58>,\n",
       " <keras.layers.normalization.BatchNormalization at 0x7ff2002e4550>,\n",
       " <keras.layers.core.Flatten at 0x7ff2002fb0b8>,\n",
       " <keras.layers.core.Dense at 0x7ff2003a1a20>,\n",
       " <keras.layers.core.Dropout at 0x7ff2002a2940>]"
      ]
     },
     "execution_count": 3,
     "metadata": {},
     "output_type": "execute_result"
    }
   ],
   "source": [
    "model.layers"
   ]
  },
  {
   "cell_type": "code",
   "execution_count": 15,
   "metadata": {
    "collapsed": false
   },
   "outputs": [
    {
     "name": "stdout",
     "output_type": "stream",
     "text": [
      "conv2d_1\n",
      "conv2d_2\n",
      "batch_normalization_1\n",
      "flatten_1\n",
      "dense_1\n",
      "dropout_1\n"
     ]
    }
   ],
   "source": [
    "for layer in model.layers:\n",
    "    print(layer.name)"
   ]
  },
  {
   "cell_type": "code",
   "execution_count": 107,
   "metadata": {
    "collapsed": false
   },
   "outputs": [
    {
     "name": "stdout",
     "output_type": "stream",
     "text": [
      "(5, 5, 10, 7)\n"
     ]
    }
   ],
   "source": [
    "\n",
    "kernels, bias = model.layers[1].get_weights()\n",
    "print(kernels.shape)"
   ]
  },
  {
   "cell_type": "code",
   "execution_count": 104,
   "metadata": {
    "collapsed": false
   },
   "outputs": [],
   "source": [
    "def visualize_kernels(kernels,pad):\n",
    "    # info of the kernel\n",
    "    H,W,_,__ = kernels.shape\n",
    "    # normalize the filters\n",
    "    mi,ma = kernels.min(),kernels.max()\n",
    "    kernels = (kernels - mi) / (ma - mi)\n",
    "    # expand the first dimension into a multiple of 3\n",
    "    num_pad = kernels.shape[0] % 3\n",
    "    if num_pad > 0 :\n",
    "        pad_time = 3 - num_pad\n",
    "        kernels = np.pad(kernels,((0,pad_time),(0,0),(0,0),(0,0)),mode = 'edge')\n",
    "    \n",
    "    # reshape the kernel so that the first channel is 3 (r,g,b)\n",
    "    kernels = kernels.reshape(3,H,W,-1)\n",
    "    \n",
    "    # sanity check on the dimension of the resultant kernel \n",
    "    # evaluate the size of kernels\n",
    "    kern_height,H,W,num_kernels = kernels.shape\n",
    "    lo_c = int(np.sqrt(num_kernels))\n",
    "    hi_c = lo_c + 1\n",
    "    \n",
    "    output_height = (hi_c) * H + pad * (hi_c + 1)\n",
    "    output_width = lo_c * W + pad * (lo_c + 1)\n",
    "    \n",
    "    output = np.zeros((output_height,output_width,3)) # TODO: flatten this!\n",
    "    # iterate on the coordinates of output\n",
    "    kern_id = 0\n",
    "    for i in range(pad,output_height,H + pad):\n",
    "        for j in range(pad,output_width,W + pad):\n",
    "            patch = kernels[:,:,:,kern_id].transpose(1,2,0)\n",
    "            output[i:(i + H),j:(j + W),:] = kernels[:,:,:,kern_id].transpose(1,2,0)\n",
    "            kern_id += 1\n",
    "            if kern_id >= kernels.shape[-1]: break\n",
    "        if kern_id >= kernels.shape[-1]: break\n",
    "\n",
    "    return output"
   ]
  },
  {
   "cell_type": "code",
   "execution_count": 105,
   "metadata": {
    "collapsed": false
   },
   "outputs": [],
   "source": [
    "output = visualize_kernels(kernels,2)"
   ]
  },
  {
   "cell_type": "code",
   "execution_count": 106,
   "metadata": {
    "collapsed": false
   },
   "outputs": [
    {
     "data": {
      "text/plain": [
       "<matplotlib.image.AxesImage at 0x7ff1d07745f8>"
      ]
     },
     "execution_count": 106,
     "metadata": {},
     "output_type": "execute_result"
    },
    {
     "data": {
      "image/png": "[encoded data removed]",
      "text/plain": [
       "<matplotlib.figure.Figure at 0x7ff1d517e8d0>"
      ]
     },
     "metadata": {},
     "output_type": "display_data"
    }
   ],
   "source": [
    "import matplotlib.pyplot as plt\n",
    "%matplotlib inline\n",
    "plt.imshow(output)"
   ]
  },
  {
   "cell_type": "code",
   "execution_count": null,
   "metadata": {
    "collapsed": false
   },
   "outputs": [],
   "source": []
  },
  {
   "cell_type": "code",
   "execution_count": null,
   "metadata": {
    "collapsed": true
   },
   "outputs": [],
   "source": []
  }
 ],
 "metadata": {
  "kernelspec": {
   "display_name": "Python 3",
   "language": "python",
   "name": "python3"
  },
  "language_info": {
   "codemirror_mode": {
    "name": "ipython",
    "version": 3
   },
   "file_extension": ".py",
   "mimetype": "text/x-python",
   "name": "python",
   "nbconvert_exporter": "python",
   "pygments_lexer": "ipython3",
   "version": "3.4.3"
  }
 },
 "nbformat": 4,
 "nbformat_minor": 0
}
